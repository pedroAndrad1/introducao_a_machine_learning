{
  "nbformat": 4,
  "nbformat_minor": 0,
  "metadata": {
    "colab": {
      "name": "introducao_ml_parte4.ipynb",
      "version": "0.3.2",
      "provenance": [],
      "collapsed_sections": [],
      "include_colab_link": true
    },
    "kernelspec": {
      "name": "python3",
      "display_name": "Python 3"
    }
  },
  "cells": [
    {
      "cell_type": "markdown",
      "metadata": {
        "id": "view-in-github",
        "colab_type": "text"
      },
      "source": [
        "<a href=\"https://colab.research.google.com/github/pedroAndrad1/introducao_a_machine_learning/blob/master/introducao_ml_parte4.ipynb\" target=\"_parent\"><img src=\"https://colab.research.google.com/assets/colab-badge.svg\" alt=\"Open In Colab\"/></a>"
      ]
    },
    {
      "cell_type": "markdown",
      "metadata": {
        "id": "MCG-rPV2VORq",
        "colab_type": "text"
      },
      "source": [
        "Vemos que o LinearSVC não é um estimador muito bom para resolver o problema em questão. Pois ele tem a limitação de trabalhar apenas com problemas linearmente separáveis, o que podemos ver nos gráficos que não é o caso. Outro problema que temos é que as features não estamos na mesma escala. E como estimadores trabalham com os valores de forma absoluta no pesos, isso influência muito na decisão. \n",
        "\n",
        "Aqui vamos colocar as features em mesma escala e usar um estimador, também da biblioteca sklearn, que não tenha a limitação de trabalhar apenas com problemas linearmente separáveis."
      ]
    },
    {
      "cell_type": "markdown",
      "metadata": {
        "id": "7yU3LoTqWDCU",
        "colab_type": "text"
      },
      "source": [
        "#Primeiro vou pegar um pouco do que foi feito na parte 3, para reaproveitar aqui."
      ]
    },
    {
      "cell_type": "code",
      "metadata": {
        "id": "bcTI4PMMVI4_",
        "colab_type": "code",
        "colab": {}
      },
      "source": [
        "import pandas as pd\n",
        "from sklearn.model_selection import train_test_split\n",
        "\n",
        "uri = \"https://gist.githubusercontent.com/guilhermesilveira/1b7d5475863c15f484ac495bd70975cf/raw/16aff7a0aee67e7c100a2a48b676a2d2d142f646/projects.csv\"\n",
        "dados = pd.read_csv(uri)\n",
        "\n",
        "a_renomear = {\n",
        "    'expected_hours' : 'horas_esperadas',\n",
        "    'price' : 'preco',\n",
        "    'unfinished' : 'nao_finalizado'\n",
        "}\n",
        "dados = dados.rename(columns = a_renomear)\n",
        "dados.head()\n",
        "\n",
        "#Primeiro eu crio um dicionario\n",
        "troca = {\n",
        "    0 : 1,\n",
        "    1 : 0\n",
        "}\n",
        "#Depois eu uso a funcao map na coluna de nao_finalizado e remapeio de acordo com o dicionario.\n",
        "#A funcao vai me retornar uma nova coluna e eu armazeno esses valores na coluna finalizado que acabei de criar.\n",
        "dados['finalizado'] = dados.nao_finalizado.map(troca)\n",
        "dados.head()\n",
        "\n",
        "#Fazendo o split\n",
        "\n",
        "SEED = 20\n",
        "\n",
        "x = dados[[\"horas_esperadas\", \"preco\"]]\n",
        "y = dados[\"nao_finalizado\"]\n",
        "\n",
        "raw_treino_x, raw_teste_x, treino_y, teste_y = train_test_split(x, y,\n",
        "                                                         random_state = SEED, test_size = 0.25,\n",
        "                                                         stratify = y)"
      ],
      "execution_count": 0,
      "outputs": []
    },
    {
      "cell_type": "markdown",
      "metadata": {
        "id": "_cMA2xJ2Xkqa",
        "colab_type": "text"
      },
      "source": [
        "#1 Colocando as features em uma mesma escala.\n",
        "\n",
        "Já com o dataset em mãos e já feito o split, vou colocar as features, o raw_treino_x e raw_teste_x, em uma mesma escala. Usando o StandardScaler do módulo preprocessing da biblioteca sklearn."
      ]
    },
    {
      "cell_type": "code",
      "metadata": {
        "id": "PTmlKeONX8-0",
        "colab_type": "code",
        "outputId": "c448ae49-863b-461c-b9ec-3697346d3510",
        "colab": {
          "base_uri": "https://localhost:8080/",
          "height": 136
        }
      },
      "source": [
        "from sklearn.preprocessing import StandardScaler\n",
        "\n",
        "#Instanciando o escalonador\n",
        "scaler = StandardScaler()\n",
        "\n",
        "#Agora, o escolanador precisa tambem se ajustar ao dados antes de fazer o escalonamento.\n",
        "scaler.fit(raw_treino_x) #Não preciso fazer o mesmo para o raw_teste_x tambem. O raw_treino_x ja e suficiente.\n",
        "\n",
        "#Agora, posso transformar as features para as novas features de mesma escala.\n",
        "treino_x = scaler.transform(raw_treino_x)\n",
        "teste_x = scaler.transform(raw_teste_x)\n",
        "\n",
        "#Aqui tem um porem, antes o raw_treino_x e raw_teste_x era um dataframe do pandas.\n",
        "#Mas o trasnform() devolve um array de arrays que representa aquele dataframe.\n",
        "#Entao a forma de trabalhar muda um pouco, mas nada demais.\n",
        "\n",
        "treino_x"
      ],
      "execution_count": 0,
      "outputs": [
        {
          "output_type": "execute_result",
          "data": {
            "text/plain": [
              "array([[ 0.63855841,  0.2799037 ],\n",
              "       [ 0.11435093, -0.33417309],\n",
              "       [ 1.33750172,  1.90151475],\n",
              "       ...,\n",
              "       [-0.75932821, -0.55223622],\n",
              "       [ 0.32403392, -0.18886321],\n",
              "       [ 1.0579244 ,  1.43628718]])"
            ]
          },
          "metadata": {
            "tags": []
          },
          "execution_count": 10
        }
      ]
    },
    {
      "cell_type": "markdown",
      "metadata": {
        "id": "f8bC8Fmgat8U",
        "colab_type": "text"
      },
      "source": [
        "#2 Usando um estimador não linear\n",
        "\n",
        "Aqui vamos usar nosso novo estimador e ver a sua acurácia. O estimador vai ser o SVC (Support Vector Classification)\n",
        "do mesmo módulo svm (Support Vector Machines)  da biblioteca skleran."
      ]
    },
    {
      "cell_type": "code",
      "metadata": {
        "id": "IyakPnwkbrW-",
        "colab_type": "code",
        "outputId": "c0bd729a-1840-4f9f-8206-cf95c0112fb4",
        "colab": {
          "base_uri": "https://localhost:8080/",
          "height": 34
        }
      },
      "source": [
        "from sklearn.svm import SVC\n",
        "from sklearn.metrics import accuracy_score\n",
        "\n",
        "#Assim como o perceptron e o LinearSVC o SVC tambem usa uma constante, o famoso vies. \n",
        "#Este e gerado aleatoriamente, mas podemos usar uma seed para enviesar essa geracao aleatoria.\n",
        "#Assim podemos replicar o processo.\n",
        "SEED = 5\n",
        "\n",
        "modelo = SVC()\n",
        "modelo.fit(treino_x, treino_y)\n",
        "estimativas = modelo.predict(teste_x)\n",
        "\n",
        "acuracia = accuracy_score(estimativas, teste_y) * 100\n",
        "print(\"A acurácia foi %.2f%%\" % acuracia)\n"
      ],
      "execution_count": 0,
      "outputs": [
        {
          "output_type": "stream",
          "text": [
            "A acurácia foi 66.67%\n"
          ],
          "name": "stdout"
        }
      ]
    },
    {
      "cell_type": "markdown",
      "metadata": {
        "id": "oVNNNj43elBt",
        "colab_type": "text"
      },
      "source": [
        "#3 Vendo a curva de decisão."
      ]
    },
    {
      "cell_type": "code",
      "metadata": {
        "id": "jFo9eQ0ueote",
        "colab_type": "code",
        "outputId": "476b43aa-0cf1-4ea0-c301-ec5bb73ee44a",
        "colab": {
          "base_uri": "https://localhost:8080/",
          "height": 286
        }
      },
      "source": [
        "data_x = teste_x[:, 0] # Estou pegando todos os elementos, : , da coluna 0. Que são a primeita feature\n",
        "data_y = teste_x[:, 1] # Estou pegando todos os elementos, : , da coluna 1; Que são a segunda features.\n",
        "\n",
        "#Agora fazendo os roles para calcular as previsoes para todos os pontos possiveis e plotando isso em um grafico.\n",
        "#Essa parte nao entendi bem.\n",
        "\n",
        "x_min = data_x.min()\n",
        "x_max = data_x.max()\n",
        "y_min = data_y.min()\n",
        "y_max = data_y.max()\n",
        "\n",
        "import numpy as np\n",
        "\n",
        "pixels = 100\n",
        "eixo_x = np.arange(x_min, x_max, (x_max - x_min) / pixels)\n",
        "eixo_y = np.arange(y_min, y_max, (y_max - y_min) / pixels)\n",
        "\n",
        "xx, yy = np.meshgrid(eixo_x, eixo_y)\n",
        "pontos = np.c_[xx.ravel(), yy.ravel()]\n",
        "\n",
        "Z = modelo.predict(pontos)\n",
        "Z = Z.reshape(xx.shape)\n",
        "\n",
        "import matplotlib.pyplot as plt\n",
        "\n",
        "plt.contourf(xx, yy, Z, alpha=0.3)\n",
        "plt.scatter(data_x, data_y, c=teste_y, s=1)\n",
        "\n",
        "#Lembrando que a parte amarelo são as estimativas iguais a 1 e a azul são as iguais a 0.\n",
        "#Da pra ver que a curva de decisao agora foi bem melhor que a anterior."
      ],
      "execution_count": 0,
      "outputs": [
        {
          "output_type": "execute_result",
          "data": {
            "text/plain": [
              "<matplotlib.collections.PathCollection at 0x7f0ef1b9a7f0>"
            ]
          },
          "metadata": {
            "tags": []
          },
          "execution_count": 13
        },
        {
          "output_type": "display_data",
          "data": {
            "image/png": "[encoded data removed]",
            "text/plain": [
              "<Figure size 432x288 with 1 Axes>"
            ]
          },
          "metadata": {
            "tags": []
          }
        }
      ]
    }
  ]
}